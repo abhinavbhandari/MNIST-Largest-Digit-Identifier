{
  "nbformat": 4,
  "nbformat_minor": 0,
  "metadata": {
    "colab": {
      "name": "comp551-cnn.ipynb",
      "version": "0.3.2",
      "views": {},
      "default_view": {},
      "provenance": []
    },
    "kernelspec": {
      "name": "python3",
      "display_name": "Python 3"
    },
    "accelerator": "GPU"
  },
  "cells": [
    {
      "metadata": {
        "id": "r_d3gIBaeMO_",
        "colab_type": "text"
      },
      "cell_type": "markdown",
      "source": [
        ""
      ]
    },
    {
      "metadata": {
        "id": "Nk_Fd40Edea4",
        "colab_type": "code",
        "colab": {
          "autoexec": {
            "startup": false,
            "wait_interval": 0
          }
        }
      },
      "cell_type": "code",
      "source": [
        "import pandas as pd\n",
        "import numpy as np"
      ],
      "execution_count": 0,
      "outputs": []
    },
    {
      "metadata": {
        "id": "A1Bqz0pwT9c1",
        "colab_type": "code",
        "colab": {
          "autoexec": {
            "startup": false,
            "wait_interval": 0
          }
        }
      },
      "cell_type": "code",
      "source": [
        "from scipy import ndimage\n",
        "from skimage.transform import resize\n",
        "from sklearn.svm import LinearSVC\n",
        "from sklearn.metrics import accuracy_score\n",
        "from google.colab import files"
      ],
      "execution_count": 0,
      "outputs": []
    },
    {
      "metadata": {
        "id": "O6RBicIQDToB",
        "colab_type": "code",
        "colab": {
          "autoexec": {
            "startup": false,
            "wait_interval": 0
          }
        }
      },
      "cell_type": "code",
      "source": [
        "from sklearn.metrics import confusion_matrix"
      ],
      "execution_count": 0,
      "outputs": []
    },
    {
      "metadata": {
        "id": "6SzI4RVzrzy5",
        "colab_type": "code",
        "colab": {
          "autoexec": {
            "startup": false,
            "wait_interval": 0
          },
          "output_extras": [
            {
              "item_id": 1
            }
          ],
          "base_uri": "https://localhost:8080/",
          "height": 34
        },
        "outputId": "f72e38dd-71af-4199-d7af-b1e58d34e806",
        "executionInfo": {
          "status": "ok",
          "timestamp": 1521757223203,
          "user_tz": 240,
          "elapsed": 8506,
          "user": {
            "displayName": "Abhinav Bhandari",
            "photoUrl": "https://lh3.googleusercontent.com/a/default-user=s128",
            "userId": "108370734082458731879"
          }
        }
      },
      "cell_type": "code",
      "source": [
        "from keras.datasets import mnist\n",
        "from keras.models import Sequential\n",
        "from keras.layers import Dense\n",
        "from keras.layers import Dropout\n",
        "from keras.layers import Flatten\n",
        "from keras.layers.convolutional import Conv2D\n",
        "from keras.layers.convolutional import MaxPooling2D\n",
        "from keras.utils import np_utils\n",
        "from keras import backend as K\n",
        "K.set_image_dim_ordering('th')"
      ],
      "execution_count": 5,
      "outputs": [
        {
          "output_type": "stream",
          "text": [
            "Using TensorFlow backend.\n"
          ],
          "name": "stderr"
        }
      ]
    },
    {
      "metadata": {
        "id": "AUB3XSAZT_N8",
        "colab_type": "code",
        "colab": {
          "autoexec": {
            "startup": false,
            "wait_interval": 0
          }
        }
      },
      "cell_type": "code",
      "source": [
        "URL_ENDPOINT = \"http://cs.mcgill.ca/~ksinha4/datasets/kaggle/\"\n",
        "\n",
        "train_x = np.loadtxt(URL_ENDPOINT+\"train_x.csv\", delimiter=\",\")\n",
        "train_y = np.loadtxt(URL_ENDPOINT+\"train_y.csv\", delimiter=\",\")\n",
        "test_x = np.loadtxt(URL_ENDPOINT+\"test_x.csv\", delimiter=\",\")"
      ],
      "execution_count": 0,
      "outputs": []
    },
    {
      "metadata": {
        "id": "LutjzVPLUDW5",
        "colab_type": "code",
        "colab": {
          "autoexec": {
            "startup": false,
            "wait_interval": 0
          }
        }
      },
      "cell_type": "code",
      "source": [
        "x = train_x.reshape(-1, 64, 64) # reshape \n",
        "y = train_y.reshape(-1, 1) \n",
        "test = test_x.reshape(-1, 64, 64)"
      ],
      "execution_count": 0,
      "outputs": []
    },
    {
      "metadata": {
        "id": "f6312N3IU1Q-",
        "colab_type": "code",
        "colab": {
          "autoexec": {
            "startup": false,
            "wait_interval": 0
          }
        }
      },
      "cell_type": "code",
      "source": [
        "def find_largest_bounding_box(im):\n",
        "  # convert to binary image\n",
        "#   _, im = cv2.threshold(im,254,255,cv2.THRESH_BINARY)\n",
        "  im[im<255]=0\n",
        "  im[im==255]=1\n",
        "  \n",
        "  label_im, nb_labels = ndimage.label(im)\n",
        "  \n",
        "  # find largest connected component\n",
        "  sizes = ndimage.sum(im, label_im, range(nb_labels + 1))\n",
        "  mask_size = sizes < 4**2\n",
        "  remove_pixel = mask_size[label_im]\n",
        "  label_im[remove_pixel] = 0\n",
        "  labels = np.unique(label_im)\n",
        "  label_im = np.searchsorted(labels, label_im)\n",
        "\n",
        "  digits = ndimage.find_objects(label_im)\n",
        "  max_side = 0\n",
        "  max_ind = 0\n",
        "  for i in range(0,len(digits)):\n",
        "    bound = im[digits[i]]\n",
        "    if np.max(bound.shape) > max_side:\n",
        "      max_side = np.max(bound.shape)\n",
        "      max_ind = i\n",
        "\n",
        "  bound_rec = im[digits[max_ind]]\n",
        "  \n",
        "  # pad and resize\n",
        "  if bound_rec.shape[0] > bound_rec.shape[1]:\n",
        "    resize_short = round(24*bound_rec.shape[1]/bound_rec.shape[0])\n",
        "    bound_rec = resize(bound_rec, (24, resize_short), mode='reflect')\n",
        "    pad_before = (np.ceil((28 - resize_short)/2)).astype(int)\n",
        "    pad_after = (np.floor((28 - resize_short)/2)).astype(int)\n",
        "    bound_squ = np.pad(bound_rec,((2,2),(pad_before, pad_after)),'constant', constant_values=0)\n",
        "    \n",
        "  else:\n",
        "    resize_short = round(24*bound_rec.shape[0]/bound_rec.shape[1])\n",
        "    bound_rec = resize(bound_rec, (resize_short, 24), mode='reflect')\n",
        "    pad_before = (np.ceil((28 - resize_short)/2)).astype(int)\n",
        "    pad_after = (np.floor((28 - resize_short)/2)).astype(int)\n",
        "    bound_squ = np.pad(bound_rec,((pad_before, pad_after),(2,2)),'constant', constant_values=0)\n",
        "#   _, bound_squ = cv2.threshold(bound_squ,254,255,cv2.THRESH_BINARY)\n",
        "  bound_squ[bound_squ<1] = 0\n",
        "  \n",
        "  return bound_squ"
      ],
      "execution_count": 0,
      "outputs": []
    },
    {
      "metadata": {
        "id": "H3oKkN1iTuPA",
        "colab_type": "code",
        "colab": {
          "autoexec": {
            "startup": false,
            "wait_interval": 0
          }
        }
      },
      "cell_type": "code",
      "source": [
        "def preprocess(train):\n",
        "  prep = np.zeros((len(train),28,28))\n",
        "  for i in range(0,len(prep)):\n",
        "    prep[i] = find_largest_bounding_box(train[i].copy())\n",
        "  return prep"
      ],
      "execution_count": 0,
      "outputs": []
    },
    {
      "metadata": {
        "id": "BQKkQyEnTw_U",
        "colab_type": "code",
        "colab": {
          "autoexec": {
            "startup": false,
            "wait_interval": 0
          },
          "output_extras": [
            {
              "item_id": 1
            }
          ],
          "base_uri": "https://localhost:8080/",
          "height": 71
        },
        "outputId": "044a3f34-13b5-45f0-9900-d165bf8f1d1c",
        "executionInfo": {
          "status": "ok",
          "timestamp": 1521757913248,
          "user_tz": 240,
          "elapsed": 138379,
          "user": {
            "displayName": "Abhinav Bhandari",
            "photoUrl": "https://lh3.googleusercontent.com/a/default-user=s128",
            "userId": "108370734082458731879"
          }
        }
      },
      "cell_type": "code",
      "source": [
        "prep_x = preprocess(x)\n",
        "np.savetxt('prep_train_x.csv',prep_x.reshape(-1,28**2),delimiter=',')\n",
        "prep_test = preprocess(test)\n",
        "np.savetxt('prep_test_x.csv',prep_test.reshape(-1,28**2),delimiter=',')"
      ],
      "execution_count": 11,
      "outputs": [
        {
          "output_type": "stream",
          "text": [
            "/usr/local/lib/python3.6/dist-packages/scipy/ndimage/measurements.py:431: FutureWarning: Conversion of the second argument of issubdtype from `int` to `np.signedinteger` is deprecated. In future, it will be treated as `np.int64 == np.dtype(int).type`.\n",
            "  safe = ((np.issubdtype(dt, int) and dt.itemsize <= int_size) or\n"
          ],
          "name": "stderr"
        }
      ]
    },
    {
      "metadata": {
        "id": "Dll7eooQUhw0",
        "colab_type": "code",
        "colab": {
          "autoexec": {
            "startup": false,
            "wait_interval": 0
          }
        }
      },
      "cell_type": "code",
      "source": [
        "#retransform data input to prepare for \n",
        "prep_x = prep_x.reshape(prep_x.shape[0], 1, 28, 28).astype('float32')\n",
        "prep_test = prep_test.reshape(prep_test.shape[0], 1, 28, 28).astype('float32')"
      ],
      "execution_count": 0,
      "outputs": []
    },
    {
      "metadata": {
        "id": "Qz7btIVftynH",
        "colab_type": "code",
        "colab": {
          "autoexec": {
            "startup": false,
            "wait_interval": 0
          }
        }
      },
      "cell_type": "code",
      "source": [
        "train = prep_x[:40000]\n",
        "#train = train.reshape(-1,28**2)\n",
        "train_y = y[:40000]\n",
        "valid = prep_x[40000:]\n",
        "#valid = valid.reshape(-1,28**2)\n",
        "valid_y = y[40000:]"
      ],
      "execution_count": 0,
      "outputs": []
    },
    {
      "metadata": {
        "id": "NDvKTNsksbHA",
        "colab_type": "text"
      },
      "cell_type": "markdown",
      "source": [
        "train = prep_x[:40000]\n",
        "#train = train.reshape(-1,28**2)\n",
        "train_y = y[:40000]\n",
        "valid = prep_x[40000:]\n",
        "#valid = valid.reshape(-1,28**2)\n",
        "valid_y = y[40000:]"
      ]
    },
    {
      "metadata": {
        "id": "p-vRBDRtsrgb",
        "colab_type": "code",
        "colab": {
          "autoexec": {
            "startup": false,
            "wait_interval": 0
          }
        },
        "cellView": "code"
      },
      "cell_type": "code",
      "source": [
        "y_train = np_utils.to_categorical(train_y)\n",
        "y_test = np_utils.to_categorical(valid_y)\n",
        "num_classes = y_test.shape[1]\n",
        "real_y = np_utils.to_categorical(y)\n",
        "num_classes = real_y.shape[1]"
      ],
      "execution_count": 0,
      "outputs": []
    },
    {
      "metadata": {
        "id": "wn_yoaLrrylk",
        "colab_type": "code",
        "colab": {
          "autoexec": {
            "startup": false,
            "wait_interval": 0
          }
        }
      },
      "cell_type": "code",
      "source": [
        "def baseline_model():\n",
        "\t# create model\n",
        "\tmodel = Sequential()\n",
        "\tmodel.add(Conv2D(28, (6, 6), input_shape=(1, 28, 28), activation='relu'))\n",
        "\tmodel.add(MaxPooling2D(pool_size=(3, 3)))\n",
        "\tmodel.add(Dropout(0.2))\n",
        "\tmodel.add(Flatten())\n",
        "\tmodel.add(Dense(128, activation='relu'))\n",
        "\tmodel.add(Dense(num_classes, activation='softmax'))\n",
        "\t# Compile model\n",
        "\tmodel.compile(loss='categorical_crossentropy', optimizer='adam', metrics=['accuracy'])\n",
        "\treturn model"
      ],
      "execution_count": 0,
      "outputs": []
    },
    {
      "metadata": {
        "id": "gfEH44uX2EUN",
        "colab_type": "code",
        "colab": {
          "autoexec": {
            "startup": false,
            "wait_interval": 0
          }
        }
      },
      "cell_type": "code",
      "source": [
        "def larger_model():\n",
        "\t# create model\n",
        "\tmodel = Sequential()\n",
        "\tmodel.add(Conv2D(30, (5, 5), input_shape=(1, 28, 28), activation='relu'))\n",
        "\tmodel.add(MaxPooling2D(pool_size=(2, 2)))\n",
        "\tmodel.add(Conv2D(15, (3, 3), activation='relu'))\n",
        "\tmodel.add(MaxPooling2D(pool_size=(2, 2)))\n",
        "\tmodel.add(Dropout(0.2))\n",
        "\tmodel.add(Flatten())\n",
        "\tmodel.add(Dense(128, activation='relu'))\n",
        "# \tmodel.add(Dense(50, activation='relu'))\n",
        "\tmodel.add(Dense(num_classes, activation='softmax'))\n",
        "\t# Compile model\n",
        "\tmodel.compile(loss='categorical_crossentropy', optimizer='adam', metrics=['accuracy'])\n",
        "\treturn model"
      ],
      "execution_count": 0,
      "outputs": []
    },
    {
      "metadata": {
        "id": "MPXOnnYRtRBk",
        "colab_type": "code",
        "colab": {
          "autoexec": {
            "startup": false,
            "wait_interval": 0
          },
          "output_extras": [
            {
              "item_id": 51
            },
            {
              "item_id": 95
            }
          ],
          "base_uri": "https://localhost:8080/",
          "height": 407
        },
        "outputId": "f6a3fa0b-bce5-47f6-f2fe-3c410725fd02",
        "executionInfo": {
          "status": "ok",
          "timestamp": 1521760988374,
          "user_tz": 240,
          "elapsed": 24711,
          "user": {
            "displayName": "Abhinav Bhandari",
            "photoUrl": "https://lh3.googleusercontent.com/a/default-user=s128",
            "userId": "108370734082458731879"
          }
        }
      },
      "cell_type": "code",
      "source": [
        "# build the model\n",
        "model = baseline_model()\n",
        "# Fit the model\n",
        "model.fit(train, y_train, validation_data=(valid, y_test), epochs=10, batch_size=200, verbose=1)\n",
        "# Final evaluation of the model\n",
        "scores = model.evaluate(valid, y_test, verbose=0)\n",
        "print(\"CNN Error: %.2f%%\" % (100-scores[1]*100))"
      ],
      "execution_count": 36,
      "outputs": [
        {
          "output_type": "stream",
          "text": [
            "Train on 40000 samples, validate on 10000 samples\n",
            "Epoch 1/10\n",
            "40000/40000 [==============================] - 2s 62us/step - loss: 0.8425 - acc: 0.7491 - val_loss: 0.4544 - val_acc: 0.8783\n",
            "Epoch 2/10\n",
            "40000/40000 [==============================] - 2s 58us/step - loss: 0.4408 - acc: 0.8820 - val_loss: 0.3614 - val_acc: 0.9058\n",
            "Epoch 3/10\n",
            "40000/40000 [==============================] - 2s 58us/step - loss: 0.3673 - acc: 0.9043 - val_loss: 0.3091 - val_acc: 0.9229\n",
            "Epoch 4/10\n",
            "40000/40000 [==============================] - 2s 58us/step - loss: 0.3283 - acc: 0.9146 - val_loss: 0.2953 - val_acc: 0.9260\n",
            "Epoch 5/10\n",
            "40000/40000 [==============================] - 2s 58us/step - loss: 0.3034 - acc: 0.9213 - val_loss: 0.2764 - val_acc: 0.9311\n",
            "Epoch 6/10\n",
            "16600/40000 [===========>..................] - ETA: 1s - loss: 0.2758 - acc: 0.9294"
          ],
          "name": "stdout"
        },
        {
          "output_type": "stream",
          "text": [
            "40000/40000 [==============================] - 2s 58us/step - loss: 0.2803 - acc: 0.9296 - val_loss: 0.2680 - val_acc: 0.9350\n",
            "Epoch 7/10\n",
            "40000/40000 [==============================] - 2s 59us/step - loss: 0.2659 - acc: 0.9330 - val_loss: 0.2612 - val_acc: 0.9357\n",
            "Epoch 8/10\n",
            "40000/40000 [==============================] - 2s 58us/step - loss: 0.2524 - acc: 0.9362 - val_loss: 0.2594 - val_acc: 0.9361\n",
            "Epoch 9/10\n",
            "40000/40000 [==============================] - 2s 57us/step - loss: 0.2393 - acc: 0.9396 - val_loss: 0.2547 - val_acc: 0.9377\n",
            "Epoch 10/10\n",
            "40000/40000 [==============================] - 2s 58us/step - loss: 0.2270 - acc: 0.9432 - val_loss: 0.2559 - val_acc: 0.9355\n",
            "CNN Error: 6.45%\n"
          ],
          "name": "stdout"
        }
      ]
    },
    {
      "metadata": {
        "id": "3Ez6Qi7WIhSu",
        "colab_type": "code",
        "colab": {
          "autoexec": {
            "startup": false,
            "wait_interval": 0
          },
          "output_extras": [
            {
              "item_id": 57
            },
            {
              "item_id": 110
            }
          ],
          "base_uri": "https://localhost:8080/",
          "height": 407
        },
        "outputId": "f294565d-4d28-474b-ffb7-cea8da6b9e3b",
        "executionInfo": {
          "status": "ok",
          "timestamp": 1521764155915,
          "user_tz": 240,
          "elapsed": 29008,
          "user": {
            "displayName": "Abhinav Bhandari",
            "photoUrl": "https://lh3.googleusercontent.com/a/default-user=s128",
            "userId": "108370734082458731879"
          }
        }
      },
      "cell_type": "code",
      "source": [
        "# build the model\n",
        "model = larger_model()\n",
        "# Fit the model\n",
        "model.fit(train, y_train, validation_data=(valid, y_test), epochs=10, batch_size=200, verbose=1)\n",
        "# Final evaluation of the model\n",
        "scores = model.evaluate(valid, y_test, verbose=0)\n",
        "print(\"CNN Error: %.2f%%\" % (100-scores[1]*100))"
      ],
      "execution_count": 70,
      "outputs": [
        {
          "output_type": "stream",
          "text": [
            "Train on 40000 samples, validate on 10000 samples\n",
            "Epoch 1/10\n",
            "40000/40000 [==============================] - 3s 81us/step - loss: 0.9160 - acc: 0.7156 - val_loss: 0.4524 - val_acc: 0.8788\n",
            "Epoch 2/10\n",
            "40000/40000 [==============================] - 3s 66us/step - loss: 0.4488 - acc: 0.8774 - val_loss: 0.3434 - val_acc: 0.9118\n",
            "Epoch 3/10\n",
            "40000/40000 [==============================] - 3s 66us/step - loss: 0.3680 - acc: 0.9035 - val_loss: 0.3015 - val_acc: 0.9247\n",
            "Epoch 4/10\n",
            "40000/40000 [==============================] - 3s 67us/step - loss: 0.3275 - acc: 0.9157 - val_loss: 0.2788 - val_acc: 0.9305\n",
            "Epoch 5/10\n",
            "40000/40000 [==============================] - 3s 66us/step - loss: 0.3044 - acc: 0.9228 - val_loss: 0.2671 - val_acc: 0.9349\n",
            "Epoch 6/10\n",
            " 6800/40000 [====>.........................] - ETA: 2s - loss: 0.2846 - acc: 0.9271"
          ],
          "name": "stdout"
        },
        {
          "output_type": "stream",
          "text": [
            "40000/40000 [==============================] - 3s 67us/step - loss: 0.2855 - acc: 0.9267 - val_loss: 0.2591 - val_acc: 0.9381\n",
            "Epoch 7/10\n",
            "40000/40000 [==============================] - 3s 67us/step - loss: 0.2712 - acc: 0.9308 - val_loss: 0.2535 - val_acc: 0.9362\n",
            "Epoch 8/10\n",
            "40000/40000 [==============================] - 3s 66us/step - loss: 0.2560 - acc: 0.9340 - val_loss: 0.2476 - val_acc: 0.9411\n",
            "Epoch 9/10\n",
            "40000/40000 [==============================] - 3s 68us/step - loss: 0.2459 - acc: 0.9374 - val_loss: 0.2433 - val_acc: 0.9412\n",
            "Epoch 10/10\n",
            "40000/40000 [==============================] - 3s 67us/step - loss: 0.2383 - acc: 0.9387 - val_loss: 0.2372 - val_acc: 0.9431\n",
            "CNN Error: 5.69%\n"
          ],
          "name": "stdout"
        }
      ]
    },
    {
      "metadata": {
        "id": "B8mLihH11p_I",
        "colab_type": "code",
        "colab": {
          "autoexec": {
            "startup": false,
            "wait_interval": 0
          }
        }
      },
      "cell_type": "code",
      "source": [
        "#SAVES THE PREDICTIONS FOR TEST SET\n",
        "\n",
        "predictions = model.predict(prep_test)\n",
        "predictions2 = model.predict_classes(prep_test)\n",
        "predictions3 = predictions2.reshape(predictions2.shape[0], 1)\n",
        "result = np.concatenate((np.asarray(range(0,len(predictions3))).reshape(len(predictions3),1),predictions3), axis=1).astype(int)\n",
        "np.savetxt('test_y.csv',result,delimiter=',',header='Id,Label', fmt='%f')\n",
        "files.download('test_y.csv')"
      ],
      "execution_count": 0,
      "outputs": []
    }
  ]
}